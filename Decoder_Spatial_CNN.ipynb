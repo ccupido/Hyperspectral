{
 "cells": [
  {
   "cell_type": "code",
   "execution_count": 1,
   "metadata": {
    "collapsed": true
   },
   "outputs": [],
   "source": [
    "%matplotlib inline\n",
    "import numpy as np\n",
    "import tensorflow as tf\n",
    "import pickle as pkl\n",
    "import time\n",
    "from random import shuffle\n",
    "import pandas as pd \n",
    "import spectral\n",
    "import matplotlib.pyplot as plt\n",
    "import pylab as pl\n",
    "import scipy\n",
    "import IndianPinesCNN\n",
    "#import seaborn as sns\n",
    "from collections import Counter\n",
    "import Spatial_dataset as input_data\n",
    "import patch_size\n",
    "import os\n",
    "#print IndianPinesCNN.IMAGE_PIXELS"
   ]
  },
  {
   "cell_type": "code",
   "execution_count": 2,
   "metadata": {},
   "outputs": [
    {
     "name": "stdout",
     "output_type": "stream",
     "text": [
      "(145, 145, 220)\n",
      "(145, 145, 220)\n"
     ]
    }
   ],
   "source": [
    "import scipy.io as io\n",
    "DATA_PATH = os.path.join(os.getcwd(),\"Data\")\n",
    "input_image = scipy.io.loadmat(os.path.join(DATA_PATH, \"Indian_pines.mat\"))['indian_pines']\n",
    "output_image = scipy.io.loadmat(os.path.join(DATA_PATH, \"Indian_pines_gt.mat\"))['indian_pines_gt']\n",
    "print(input_image.shape)\n",
    "\n",
    "#input_image = np.transpose(input_image, (1,0,2))\n",
    "#output_image = np.transpose(output_image, (1,0))\n",
    "print(input_image.shape)\n",
    "\n",
    "model_name = os.getcwd()+'/Data/model-spatial-CNN.ckpt'\n",
    "height = output_image.shape[0]\n",
    "width = output_image.shape[1]\n",
    "PATCH_SIZE = patch_size.patch_size\n",
    "batch_size = 100\n",
    "num_examples = 800\n",
    "\n",
    "conv1 = 500\n",
    "conv2 = 100\n",
    "fc1 = 200\n",
    "fc2 = 84"
   ]
  },
  {
   "cell_type": "code",
   "execution_count": 3,
   "metadata": {
    "collapsed": true
   },
   "outputs": [],
   "source": [
    "## Scaling Down the image to 0 - 1\n",
    "\n",
    "input_image = input_image.astype(float)\n",
    "input_image -= np.min(input_image)\n",
    "input_image /= np.max(input_image)"
   ]
  },
  {
   "cell_type": "code",
   "execution_count": 4,
   "metadata": {
    "collapsed": true
   },
   "outputs": [],
   "source": [
    "def mean_array(data):\n",
    "    mean_arr = []\n",
    "    for i in range(data.shape[0]):\n",
    "        mean_arr.append(np.mean(data[i,:,:]))\n",
    "    return np.array(mean_arr)"
   ]
  },
  {
   "cell_type": "code",
   "execution_count": 5,
   "metadata": {
    "collapsed": true
   },
   "outputs": [],
   "source": [
    "def Patch(data,height_index,width_index):\n",
    "    transpose_array = data.transpose((2,0,1))\n",
    "    #print transpose_array.shape\n",
    "    height_slice = slice(height_index, height_index+PATCH_SIZE)\n",
    "    width_slice = slice(width_index, width_index+PATCH_SIZE)\n",
    "    patch = transpose_array[:, height_slice, width_slice]\n",
    "    #print patch.shape\n",
    "    mean = mean_array(transpose_array)\n",
    "    mean_patch = []\n",
    "    for i in range(patch.shape[0]):\n",
    "        mean_patch.append(patch[i] - mean[i])\n",
    "    mean_patch = np.asarray(mean_patch)\n",
    "    patch = mean_patch.transpose((1,2,0))\n",
    "    patch = patch.reshape(-1,patch.shape[0]*patch.shape[1]*patch.shape[2])\n",
    "    #print patch.shape\n",
    "    return patch"
   ]
  },
  {
   "cell_type": "code",
   "execution_count": 6,
   "metadata": {
    "collapsed": true
   },
   "outputs": [],
   "source": [
    "def placeholder_inputs(batch_size):\n",
    "    \"\"\"Generate placeholder variables to represent the input tensors.\n",
    "    These placeholders are used as inputs by the rest of the model building\n",
    "    code and will be fed from the downloaded data in the .run() loop, below.\n",
    "    Args:\n",
    "    batch_size: The batch size will be baked into both placeholders.\n",
    "    Returns:\n",
    "    images_placeholder: Images placeholder.\n",
    "    labels_placeholder: Labels placeholder.\n",
    "    \"\"\"\n",
    "    # Note that the shapes of the placeholders match the shapes of the full\n",
    "    # image and label tensors, except the first dimension is now batch_size\n",
    "    # rather than the full size of the train or test data sets.\n",
    "    images_placeholder = tf.placeholder(tf.float32, shape=(batch_size, IndianPinesCNN\n",
    "                                                           .IMAGE_PIXELS))\n",
    "    labels_placeholder = tf.placeholder(tf.int32, shape=(batch_size))\n",
    "    return images_placeholder, labels_placeholder"
   ]
  },
  {
   "cell_type": "code",
   "execution_count": 7,
   "metadata": {
    "collapsed": true
   },
   "outputs": [],
   "source": [
    "def fill_feed_dict(data_set, images_pl, labels_pl):\n",
    "    \"\"\"Fills the feed_dict for training the given step.\n",
    "    A feed_dict takes the form of:\n",
    "    feed_dict = {\n",
    "      <placeholder>: <tensor of values to be passed for placeholder>,\n",
    "      ....\n",
    "    }\n",
    "    Args:\n",
    "    data_set: The set of images and labels, from input_data.read_data_sets()\n",
    "    images_pl: The images placeholder, from placeholder_inputs().\n",
    "    labels_pl: The labels placeholder, from placeholder_inputs().\n",
    "    Returns:\n",
    "    feed_dict: The feed dictionary mapping from placeholders to values.\n",
    "    \"\"\"\n",
    "    # Create the feed_dict for the placeholders filled with the next\n",
    "    # `batch size ` examples.\n",
    "    images_feed, labels_feed = data_set.next_batch(batch_size)\n",
    "    feed_dict = {\n",
    "      images_pl: images_feed,\n",
    "      labels_pl: labels_feed,\n",
    "    }\n",
    "    return feed_dict"
   ]
  },
  {
   "cell_type": "code",
   "execution_count": 8,
   "metadata": {
    "collapsed": true
   },
   "outputs": [],
   "source": [
    "def do_eval(sess,\n",
    "            eval_correct,\n",
    "            images_placeholder,\n",
    "            labels_placeholder,\n",
    "            data_set):\n",
    "    \"\"\"Runs one evaluation against the full epoch of data.\n",
    "    Args:\n",
    "    sess: The session in which the model has been trained.\n",
    "    eval_correct: The Tensor that returns the number of correct predictions.\n",
    "    images_placeholder: The images placeholder.\n",
    "    labels_placeholder: The labels placeholder.\n",
    "    data_set: The set of images and labels to evaluate, from\n",
    "      input_data.read_data_sets().\n",
    "    \"\"\"\n",
    "    # And run one epoch of eval.\n",
    "    true_count = 0  # Counts the number of correct predictions.\n",
    "    steps_per_epoch = data_set.num_examples // batch_size\n",
    "    num_examples = steps_per_epoch * batch_size\n",
    "    for step in xrange(steps_per_epoch):\n",
    "        feed_dict = fill_feed_dict(data_set,\n",
    "                                   images_placeholder,\n",
    "                                   labels_placeholder)\n",
    "        true_count += sess.run(eval_correct, feed_dict=feed_dict)\n",
    "    precision = float(true_count) / num_examples\n",
    "    print('  Num examples: %d  Num correct: %d  Precision @ 1: %0.04f' %\n",
    "        (num_examples, true_count, precision))"
   ]
  },
  {
   "cell_type": "code",
   "execution_count": 9,
   "metadata": {
    "collapsed": true
   },
   "outputs": [],
   "source": [
    "def decoder():\n",
    "    \n",
    "    #data_sets = input_data.read_data_sets('Test1.mat','test')\n",
    "    \n",
    "    with tf.Graph().as_default():\n",
    "        \n",
    "        images_placeholder, labels_placeholder = placeholder_inputs(1)\n",
    "\n",
    "        logits = IndianPinesCNN.inference(images_placeholder,\n",
    "                                 conv1,\n",
    "                                 conv2,        \n",
    "                                 fc1,\n",
    "                                 fc2)\n",
    "        \n",
    "        eval_correct = IndianPinesCNN.evaluation(logits, labels_placeholder)\n",
    "        \n",
    "        sm = tf.nn.softmax(logits)\n",
    "        \n",
    "        saver = tf.train.Saver()\n",
    "\n",
    "        sess = tf.Session()\n",
    "        \n",
    "        saver.restore(sess,model_name)\n",
    "        \n",
    "        temp = []\n",
    "\n",
    "        outputs = np.zeros((height,width))\n",
    "        predicted_results = [[0 for i in range(width)]for x in range(height)]\n",
    "        print(height)\n",
    "        for i in range(height-PATCH_SIZE+1):\n",
    "            print(i)\n",
    "            for j in range(width-PATCH_SIZE+1):\n",
    "                target = int(output_image[i+PATCH_SIZE//2, j+PATCH_SIZE//2])\n",
    "                if target == 0 : # fix this cludge\n",
    "                    continue\n",
    "                else :\n",
    "                    image_patch=Patch(input_image,i,j)\n",
    "                    #print image_patch\n",
    "                    prediction = sess.run(sm, feed_dict = {images_placeholder:image_patch})\n",
    "                    #print prediction\n",
    "                    temp1 = np.argmax(prediction)+1\n",
    "                    #print temp1\n",
    "                    outputs[i+PATCH_SIZE//2][j+PATCH_SIZE//2] = temp1\n",
    "                    predicted_results[i+PATCH_SIZE//2][j+PATCH_SIZE//2] = prediction\n",
    "                    \n",
    "    return outputs,predicted_results"
   ]
  },
  {
   "cell_type": "code",
   "execution_count": 10,
   "metadata": {
    "scrolled": false
   },
   "outputs": [
    {
     "name": "stdout",
     "output_type": "stream",
     "text": [
      "Tensor(\"conv_1/Conv2D:0\", shape=(1, 4, 4, 500), dtype=float32)\n",
      "Tensor(\"h_conv2/h_conv2:0\", shape=(1, 1, 1, 100), dtype=float32)\n",
      "Tensor(\"h_pool2:0\", shape=(1, 1, 1, 100), dtype=float32)\n",
      "Tensor(\"Reshape:0\", shape=(1, 100), dtype=float32)\n",
      "INFO:tensorflow:Restoring parameters from C:\\Users\\chris\\Desktop\\Hyperspectral\\Hyperspectral/Data/model-spatial-CNN.ckpt\n",
      "145\n",
      "0\n",
      "1\n",
      "2\n",
      "3\n",
      "4\n",
      "5\n",
      "6\n",
      "7\n",
      "8\n",
      "9\n",
      "10\n",
      "11\n",
      "12\n",
      "13\n",
      "14\n",
      "15\n",
      "16\n",
      "17\n",
      "18\n",
      "19\n",
      "20\n",
      "21\n",
      "22\n",
      "23\n",
      "24\n",
      "25\n",
      "26\n",
      "27\n",
      "28\n",
      "29\n",
      "30\n",
      "31\n",
      "32\n",
      "33\n",
      "34\n",
      "35\n",
      "36\n",
      "37\n",
      "38\n",
      "39\n",
      "40\n",
      "41\n",
      "42\n",
      "43\n",
      "44\n",
      "45\n",
      "46\n",
      "47\n",
      "48\n",
      "49\n",
      "50\n",
      "51\n",
      "52\n",
      "53\n",
      "54\n",
      "55\n",
      "56\n",
      "57\n",
      "58\n",
      "59\n",
      "60\n",
      "61\n",
      "62\n",
      "63\n",
      "64\n",
      "65\n",
      "66\n",
      "67\n",
      "68\n",
      "69\n",
      "70\n",
      "71\n",
      "72\n",
      "73\n",
      "74\n",
      "75\n",
      "76\n",
      "77\n",
      "78\n",
      "79\n",
      "80\n",
      "81\n",
      "82\n",
      "83\n",
      "84\n",
      "85\n",
      "86\n",
      "87\n",
      "88\n",
      "89\n",
      "90\n",
      "91\n",
      "92\n",
      "93\n",
      "94\n",
      "95\n",
      "96\n",
      "97\n",
      "98\n",
      "99\n",
      "100\n",
      "101\n",
      "102\n",
      "103\n",
      "104\n",
      "105\n",
      "106\n",
      "107\n",
      "108\n",
      "109\n",
      "110\n",
      "111\n",
      "112\n",
      "113\n",
      "114\n",
      "115\n",
      "116\n",
      "117\n",
      "118\n",
      "119\n",
      "120\n",
      "121\n",
      "122\n",
      "123\n",
      "124\n",
      "125\n",
      "126\n",
      "127\n",
      "128\n",
      "129\n",
      "130\n",
      "131\n",
      "132\n",
      "133\n",
      "134\n",
      "135\n",
      "136\n",
      "137\n",
      "138\n",
      "139\n",
      "140\n"
     ]
    }
   ],
   "source": [
    "predicted_image,predicted_results = decoder()"
   ]
  },
  {
   "cell_type": "code",
   "execution_count": 11,
   "metadata": {
    "scrolled": false
   },
   "outputs": [
    {
     "name": "stdout",
     "output_type": "stream",
     "text": [
      "(145, 145)\n",
      "145\n",
      "145\n"
     ]
    },
    {
     "data": {
      "image/png": "[encoded data removed]",
      "text/plain": [
       "<matplotlib.figure.Figure at 0x2a7ff350f60>"
      ]
     },
     "metadata": {},
     "output_type": "display_data"
    },
    {
     "data": {
      "image/png": "[encoded data removed]",
      "text/plain": [
       "<matplotlib.figure.Figure at 0x2a8674d1cf8>"
      ]
     },
     "metadata": {},
     "output_type": "display_data"
    },
    {
     "data": {
      "image/png": "[encoded data removed]",
      "text/plain": [
       "<matplotlib.figure.Figure at 0x2a877525d68>"
      ]
     },
     "metadata": {},
     "output_type": "display_data"
    }
   ],
   "source": [
    "ground_truth = spectral.imshow(classes = output_image,figsize =(5,5))\n",
    "predict_image = spectral.imshow(classes = predicted_image.astype(int),figsize =(5,5))\n",
    "\n",
    "target_mat = output_image.copy()\n",
    "size_gt =  target_mat.shape\n",
    "print(size_gt)\n",
    "\n",
    "#gt_part = gt.copy()\n",
    "print(size_gt[0])\n",
    "print(size_gt[1])\n",
    "for i in range(size_gt[1]):\n",
    "    #if i>size_gt[1]*0.1 and i<size_gt[1]*0.2:\n",
    "    #    target_mat[:,i] = np.zeros(size_gt[0])\n",
    "    if i>size_gt[1]*0.4 and i<size_gt[1]*0.5:\n",
    "        target_mat[:,i] = np.zeros(size_gt[0])\n",
    "    if i>size_gt[1]*0.8 and i<size_gt[1]*0.9:\n",
    "        target_mat[:,i] = np.zeros(size_gt[0])\n",
    "training_cuts = spectral.imshow(classes = target_mat,figsize =(5,5))"
   ]
  },
  {
   "cell_type": "code",
   "execution_count": 12,
   "metadata": {
    "collapsed": true
   },
   "outputs": [],
   "source": [
    "#f_out = open(os.getcwd() + '/Data/Predictions.pkl','ab')\n",
    "#pkl.dump({'11x11':predicted_results}, f_out)\n",
    "#f_out.close()"
   ]
  },
  {
   "cell_type": "code",
   "execution_count": null,
   "metadata": {
    "collapsed": true,
    "scrolled": false
   },
   "outputs": [],
   "source": []
  },
  {
   "cell_type": "code",
   "execution_count": null,
   "metadata": {
    "collapsed": true
   },
   "outputs": [],
   "source": []
  }
 ],
 "metadata": {
  "kernelspec": {
   "display_name": "Python 3",
   "language": "python",
   "name": "python3"
  },
  "language_info": {
   "codemirror_mode": {
    "name": "ipython",
    "version": 3
   },
   "file_extension": ".py",
   "mimetype": "text/x-python",
   "name": "python",
   "nbconvert_exporter": "python",
   "pygments_lexer": "ipython3",
   "version": "3.5.3"
  }
 },
 "nbformat": 4,
 "nbformat_minor": 1
}
