{
 "cells": [
  {
   "cell_type": "code",
   "execution_count": 1,
   "metadata": {
    "collapsed": true
   },
   "outputs": [],
   "source": [
    "%matplotlib inline\n",
    "import pickle as pkl\n",
    "import numpy as np\n",
    "import spectral\n",
    "import pandas as pd\n",
    "import scipy.io as io\n",
    "import os"
   ]
  },
  {
   "cell_type": "markdown",
   "metadata": {},
   "source": [
    "Load the ground truth image\n",
    "==========================="
   ]
  },
  {
   "cell_type": "code",
   "execution_count": 2,
   "metadata": {
    "collapsed": true
   },
   "outputs": [],
   "source": [
    "DATA_PATH = os.path.join(os.getcwd(),\"Data\")\n",
    "output_image = io.loadmat(os.path.join(DATA_PATH, 'Indian_pines_gt.mat'))['indian_pines_gt']"
   ]
  },
  {
   "cell_type": "markdown",
   "metadata": {},
   "source": [
    "Analyze the target image\n",
    "======================="
   ]
  },
  {
   "cell_type": "code",
   "execution_count": 3,
   "metadata": {
    "collapsed": true
   },
   "outputs": [],
   "source": [
    "height = output_image.shape[0]\n",
    "width = output_image.shape[1]\n",
    "targets = []\n",
    "for j in range(height):\n",
    "    for i in range(width):\n",
    "        if output_image[j][i]==0 :\n",
    "            continue\n",
    "        else :\n",
    "            targets.append(output_image[j][i])"
   ]
  },
  {
   "cell_type": "code",
   "execution_count": 4,
   "metadata": {},
   "outputs": [
    {
     "name": "stdout",
     "output_type": "stream",
     "text": [
      "Polulation of target pixels of different classes:  [46, 1428, 830, 237, 483, 730, 28, 478, 20, 972, 2455, 593, 205, 1265, 386, 93]\n"
     ]
    }
   ],
   "source": [
    "unq, unq_idx = np.unique(targets, return_inverse=True)\n",
    "unq_cnt = np.bincount(unq_idx)\n",
    "count_mat = []\n",
    "for i in range(len(unq_cnt)):\n",
    "    count_mat.append(unq_cnt[i])\n",
    "print(\"Polulation of target pixels of different classes: \", count_mat)"
   ]
  },
  {
   "cell_type": "code",
   "execution_count": 5,
   "metadata": {
    "collapsed": true
   },
   "outputs": [],
   "source": [
    "validation_scores = {'5x5': 86.19, '11x11':85.19, '21x21':97.31, '31x31':98.19, '37x37':99.56}\n",
    "CLASSES = 16"
   ]
  },
  {
   "cell_type": "code",
   "execution_count": 6,
   "metadata": {
    "collapsed": true
   },
   "outputs": [],
   "source": [
    "total = sum(validation_scores.values())\n",
    "credibility = {}\n",
    "for keys,value in validation_scores.items():\n",
    "    credibility[keys]=value/total "
   ]
  },
  {
   "cell_type": "code",
   "execution_count": 8,
   "metadata": {},
   "outputs": [],
   "source": [
    "f = open(os.getcwd() + '/Data/Predictions.pkl','rb')\n",
    "pickles = pkl.load(f)\n",
    "output_predictions = {}\n",
    "for i in range(5):\n",
    "    for keys, values in (pickles.items()):\n",
    "        score = validation_scores[keys]\n",
    "        for a in range(len(values)):\n",
    "            for b in range(len(values)):\n",
    "                if isinstance(values[a][b],int):\n",
    "                    values[a][b] = np.zeros((16))       \n",
    "        output_predictions[keys] = np.asarray(values)*credibility[keys]\n"
   ]
  },
  {
   "cell_type": "code",
   "execution_count": 9,
   "metadata": {},
   "outputs": [],
   "source": [
    "final_matrix = sum(output_predictions.values())"
   ]
  },
  {
   "cell_type": "code",
   "execution_count": 11,
   "metadata": {},
   "outputs": [
    {
     "name": "stdout",
     "output_type": "stream",
     "text": [
      "       0          1          2          3          4          5      6   \\\n",
      "0   100.0   0.000000   0.000000   0.000000   0.000000   0.000000    0.0   \n",
      "1     0.0  90.196078   0.240964   0.000000   0.000000   0.000000    0.0   \n",
      "2     0.0   1.330532  71.204819   0.000000   0.000000   0.000000    0.0   \n",
      "3     0.0   0.140056   0.000000  78.481013   0.000000   0.136986    0.0   \n",
      "4     0.0   0.070028   0.000000   0.000000  77.018634   0.273973    0.0   \n",
      "5     0.0   0.000000   0.000000   0.000000   0.414079  99.589041    0.0   \n",
      "6     0.0   0.000000   0.000000   0.000000   0.000000   0.000000  100.0   \n",
      "7     0.0   0.000000   0.000000   0.000000   0.000000   0.000000    0.0   \n",
      "8     0.0   0.000000   0.000000   0.000000   0.000000   0.000000    0.0   \n",
      "9     0.0   1.260504   0.000000   0.000000   0.000000   0.000000    0.0   \n",
      "10    0.0   4.411765   0.240964   0.000000   0.000000   0.000000    0.0   \n",
      "11    0.0   0.490196   0.000000   0.000000   0.000000   0.000000    0.0   \n",
      "12    0.0   0.000000   0.000000   0.000000   0.000000   0.000000    0.0   \n",
      "13    0.0   0.000000   0.000000   0.000000   0.000000   0.000000    0.0   \n",
      "14    0.0   0.000000   0.000000   0.000000   0.000000   0.000000    0.0   \n",
      "15    0.0   0.000000   0.000000   0.000000   0.000000   0.000000    0.0   \n",
      "\n",
      "           7      8          9          10         11     12         13  \\\n",
      "0    0.000000    0.0   0.000000   0.000000   0.000000    0.0   0.000000   \n",
      "1    0.000000    0.0   0.411523   2.158859   0.000000    0.0   0.000000   \n",
      "2    0.000000    0.0   0.000000   0.162933   0.505902    0.0   0.000000   \n",
      "3    0.000000    0.0   0.000000   0.000000   0.000000    0.0   0.000000   \n",
      "4    0.000000    0.0   0.000000   0.040733   0.000000    0.0   0.079051   \n",
      "5    0.000000    0.0   0.000000   0.936864   0.000000    0.0   0.869565   \n",
      "6    0.000000    0.0   0.000000   0.000000   0.000000    0.0   0.000000   \n",
      "7   84.937238    0.0   0.000000   0.000000   0.000000    0.0   0.000000   \n",
      "8    0.000000  100.0   0.000000   0.000000   0.000000    0.0   0.000000   \n",
      "9    0.000000    0.0  86.008230   1.629328   1.011804    0.0   0.000000   \n",
      "10   0.000000    0.0   1.543210  88.187373   0.000000    0.0   0.000000   \n",
      "11   0.000000    0.0   0.000000   0.040733  86.003373    0.0   0.079051   \n",
      "12   0.000000    0.0   0.000000   0.000000   0.000000  100.0   0.000000   \n",
      "13   0.000000    0.0   0.000000   0.000000   0.000000    0.0  91.699605   \n",
      "14   0.000000    0.0   0.000000   0.000000   0.168634    0.0   0.948617   \n",
      "15   0.000000    0.0   0.000000   0.000000   0.168634    0.0   0.000000   \n",
      "\n",
      "           14         15  \n",
      "0    0.000000   0.000000  \n",
      "1    0.000000   0.000000  \n",
      "2    0.518135   0.000000  \n",
      "3    0.000000   0.000000  \n",
      "4    0.000000   0.000000  \n",
      "5    0.000000   0.000000  \n",
      "6    0.000000   0.000000  \n",
      "7    0.000000   0.000000  \n",
      "8    0.000000   0.000000  \n",
      "9    0.000000   0.000000  \n",
      "10   0.000000   0.000000  \n",
      "11   0.000000   2.150538  \n",
      "12   0.000000   0.000000  \n",
      "13   0.000000   0.000000  \n",
      "14  48.704663   0.000000  \n",
      "15   0.000000  97.849462  \n"
     ]
    }
   ],
   "source": [
    "predictions=[]\n",
    "cnf_mat =[[0 for x in range(CLASSES)] for  y in range(CLASSES)]\n",
    "for i in range(len(final_matrix)):\n",
    "    temp=[]\n",
    "    for j in range(len(final_matrix[i])):\n",
    "        if np.count_nonzero(final_matrix[i][j]) == 0 :\n",
    "            temp.append(0)\n",
    "        else:\n",
    "            tmp = np.argmax(final_matrix[i][j])\n",
    "            temp.append(tmp+1)\n",
    "            if tmp == output_image[i][j]-1:\n",
    "                cnf_mat[tmp][tmp] = cnf_mat[tmp][tmp] + 1\n",
    "            else :\n",
    "                cnf_mat[tmp][output_image[i][j]-1] = cnf_mat[tmp][output_image[i][j]-1] + 1\n",
    "    predictions.append(temp)\n",
    "for i in range(CLASSES):\n",
    "    for j in range(CLASSES):\n",
    "        cnf_mat[i][j] = 100*(float(cnf_mat[i][j])/count_mat[j])\n",
    "\n",
    "df = pd.DataFrame(cnf_mat) \n",
    "print(df)\n",
    "predictions = np.array(predictions)"
   ]
  },
  {
   "cell_type": "code",
   "execution_count": null,
   "metadata": {
    "collapsed": true
   },
   "outputs": [],
   "source": [
    "show = spectral.imshow(classes = predictions , figsize=(9,9))"
   ]
  },
  {
   "cell_type": "code",
   "execution_count": null,
   "metadata": {
    "collapsed": true
   },
   "outputs": [],
   "source": []
  }
 ],
 "metadata": {
  "kernelspec": {
   "display_name": "Python 3",
   "language": "python",
   "name": "python3"
  },
  "language_info": {
   "codemirror_mode": {
    "name": "ipython",
    "version": 3
   },
   "file_extension": ".py",
   "mimetype": "text/x-python",
   "name": "python",
   "nbconvert_exporter": "python",
   "pygments_lexer": "ipython3",
   "version": "3.5.3"
  }
 },
 "nbformat": 4,
 "nbformat_minor": 1
}
