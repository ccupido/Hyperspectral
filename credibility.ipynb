{
 "cells": [
  {
   "cell_type": "code",
   "execution_count": 1,
   "metadata": {
    "collapsed": true
   },
   "outputs": [],
   "source": [
    "%matplotlib inline\n",
    "import pickle as pkl\n",
    "import numpy as np\n",
    "import spectral\n",
    "import pandas as pd\n",
    "import scipy.io as io\n",
    "import os"
   ]
  },
  {
   "cell_type": "markdown",
   "metadata": {},
   "source": [
    "Load the ground truth image\n",
    "==========================="
   ]
  },
  {
   "cell_type": "code",
   "execution_count": 2,
   "metadata": {
    "collapsed": true
   },
   "outputs": [],
   "source": [
    "DATA_PATH = os.path.join(os.getcwd(),\"Data\")\n",
    "output_image = io.loadmat(os.path.join(DATA_PATH, 'Indian_pines_gt.mat'))['indian_pines_gt']"
   ]
  },
  {
   "cell_type": "markdown",
   "metadata": {},
   "source": [
    "Analyze the target image\n",
    "======================="
   ]
  },
  {
   "cell_type": "code",
   "execution_count": 3,
   "metadata": {
    "collapsed": true
   },
   "outputs": [],
   "source": [
    "height = output_image.shape[0]\n",
    "width = output_image.shape[1]\n",
    "targets = []\n",
    "for j in range(height):\n",
    "    for i in range(width):\n",
    "        if output_image[j][i]==0 :\n",
    "            continue\n",
    "        else :\n",
    "            targets.append(output_image[j][i])"
   ]
  },
  {
   "cell_type": "code",
   "execution_count": 4,
   "metadata": {},
   "outputs": [
    {
     "name": "stdout",
     "output_type": "stream",
     "text": [
      "Polulation of target pixels of different classes:  [46, 1428, 830, 237, 483, 730, 28, 478, 20, 972, 2455, 593, 205, 1265, 386, 93]\n"
     ]
    }
   ],
   "source": [
    "unq, unq_idx = np.unique(targets, return_inverse=True)\n",
    "unq_cnt = np.bincount(unq_idx)\n",
    "count_mat = []\n",
    "for i in range(len(unq_cnt)):\n",
    "    count_mat.append(unq_cnt[i])\n",
    "print(\"Polulation of target pixels of different classes: \", count_mat)"
   ]
  },
  {
   "cell_type": "code",
   "execution_count": 5,
   "metadata": {
    "collapsed": true
   },
   "outputs": [],
   "source": [
    "validation_scores = {'5x5': 86.19, '11x11':85.19, '21x21':97.31, '31x31':98.19, '37x37':99.56}\n",
    "CLASSES = 16"
   ]
  },
  {
   "cell_type": "code",
   "execution_count": 6,
   "metadata": {
    "collapsed": true
   },
   "outputs": [],
   "source": [
    "total = sum(validation_scores.values())\n",
    "credibility = {}\n",
    "for keys,value in validation_scores.items():\n",
    "    credibility[keys]=value/total "
   ]
  },
  {
   "cell_type": "code",
   "execution_count": 7,
   "metadata": {
    "collapsed": true
   },
   "outputs": [],
   "source": [
    "f = open(os.getcwd() + '/Data/Predictions.pkl','rb')\n",
    "pickles = pkl.load(f)\n",
    "output_predictions = {}\n",
    "for i in range(5):\n",
    "    for keys, values in (pickles.items()):\n",
    "        score = validation_scores[keys]\n",
    "        for a in range(len(values)):\n",
    "            for b in range(len(values)):\n",
    "                if isinstance(values[a][b],int):\n",
    "                    values[a][b] = np.zeros((16))       \n",
    "        output_predictions[keys] = np.asarray(values)*credibility[keys]\n"
   ]
  },
  {
   "cell_type": "code",
   "execution_count": 8,
   "metadata": {
    "collapsed": true
   },
   "outputs": [],
   "source": [
    "final_matrix = sum(output_predictions.values())"
   ]
  },
  {
   "cell_type": "code",
   "execution_count": 9,
   "metadata": {},
   "outputs": [
    {
     "name": "stdout",
     "output_type": "stream",
     "text": [
      "           0          1          2          3          4         5   \\\n",
      "0    0.000000   0.280112   0.602410   0.000000   0.000000  4.657534   \n",
      "1    0.000000  33.333333   0.000000   0.000000   0.000000  4.794521   \n",
      "2    0.000000   9.103641   4.216867   7.172996   0.207039  4.794521   \n",
      "3    0.000000   1.540616   0.963855   0.000000   0.000000  2.602740   \n",
      "4    0.000000   1.890756   0.361446   0.000000   0.000000  2.328767   \n",
      "5   43.478261   4.831933   1.686747   0.000000   2.070393  0.000000   \n",
      "6    0.000000   0.000000   0.000000   0.000000   0.000000  1.506849   \n",
      "7    0.000000   0.000000  13.855422   0.000000  13.043478  0.136986   \n",
      "8    0.000000   0.000000   0.240964   0.000000   0.000000  0.000000   \n",
      "9    0.000000   0.420168   0.000000   0.000000   2.070393  1.506849   \n",
      "10   0.000000  13.865546   3.614458   0.000000   0.000000  3.972603   \n",
      "11   0.000000  10.644258  10.361446  43.037975   0.828157  2.191781   \n",
      "12   0.000000   2.801120   3.493976   0.000000   6.211180  0.000000   \n",
      "13   0.000000   0.000000   0.000000   0.000000   0.000000  0.000000   \n",
      "14   0.000000   1.750700   3.975904   0.000000   4.140787  2.328767   \n",
      "15   0.000000   1.050420   0.000000  17.299578   0.000000  1.780822   \n",
      "\n",
      "           6         7     8          9          10         11         12  \\\n",
      "0    0.000000  0.000000   0.0   0.000000   0.448065   0.000000   0.000000   \n",
      "1    0.000000  6.485356   0.0  19.650206   5.376782   4.553120   0.000000   \n",
      "2    0.000000  6.903766  65.0   6.172840   4.439919  17.369309   0.000000   \n",
      "3    0.000000  7.740586   0.0   1.954733   1.873727  11.467116   0.000000   \n",
      "4    0.000000  3.556485   0.0   0.411523   1.059063   1.180438   2.926829   \n",
      "5   39.285714  5.648536   0.0   0.000000   1.181263   3.204047   1.951220   \n",
      "6    0.000000  0.209205   0.0   0.000000   0.203666   0.000000   9.756098   \n",
      "7    0.000000  0.000000   0.0   0.000000   0.122200   0.000000  14.634146   \n",
      "8    0.000000  0.000000   0.0   0.000000   0.570265   0.843170   0.000000   \n",
      "9    0.000000  0.000000   0.0   2.983539  15.600815   5.396290   0.000000   \n",
      "10   0.000000  6.694561   0.0  31.995885   9.572301   0.000000   0.000000   \n",
      "11   0.000000  0.000000  35.0  10.596708  13.360489  17.032040   0.000000   \n",
      "12   0.000000  2.510460   0.0   1.440329   0.570265   0.337268   0.487805   \n",
      "13   0.000000  0.000000   0.0   0.000000   6.435845   0.000000   8.780488   \n",
      "14   0.000000  3.974895   0.0   0.720165   0.040733   0.674536   1.463415   \n",
      "15   0.000000  0.000000   0.0   0.411523   0.000000   0.337268   0.000000   \n",
      "\n",
      "          13        14          15  \n",
      "0   0.000000  0.000000   64.516129  \n",
      "1   2.529644  0.259067  239.784946  \n",
      "2   1.976285  0.518135  317.204301  \n",
      "3   0.474308  0.777202  162.365591  \n",
      "4   1.897233  4.663212  533.333333  \n",
      "5   0.079051  0.518135  498.924731  \n",
      "6   0.158103  0.000000   27.956989  \n",
      "7   0.000000  0.000000  186.021505  \n",
      "8   0.237154  0.777202   47.311828  \n",
      "9   0.790514  0.518135  175.268817  \n",
      "10  5.612648  1.554404  324.731183  \n",
      "11  5.138340  7.253886  450.537634  \n",
      "12  0.158103  0.000000   87.096774  \n",
      "13  3.636364  8.290155  658.064516  \n",
      "14  2.292490  0.777202  188.172043  \n",
      "15  0.000000  0.000000   11.827957  \n"
     ]
    }
   ],
   "source": [
    "predictions=[]\n",
    "cnf_mat =[[0 for x in range(CLASSES)] for  y in range(CLASSES)]\n",
    "for i in range(len(final_matrix)):\n",
    "    temp=[]\n",
    "    for j in range(len(final_matrix[i])):\n",
    "        if np.count_nonzero(final_matrix[i][j]) == 0 :\n",
    "            temp.append(0)\n",
    "        else:\n",
    "            tmp = np.argmax(final_matrix[i][j])\n",
    "            temp.append(tmp+1)\n",
    "            if tmp == output_image[i][j]-1:\n",
    "                cnf_mat[tmp][tmp] = cnf_mat[tmp][tmp] + 1\n",
    "            else :\n",
    "                cnf_mat[tmp][output_image[i][j]-1] = cnf_mat[tmp][output_image[i][j]-1] + 1\n",
    "    predictions.append(temp)\n",
    "for i in range(CLASSES):\n",
    "    for j in range(CLASSES):\n",
    "        cnf_mat[i][j] = 100*(float(cnf_mat[i][j])/count_mat[j])\n",
    "\n",
    "df = pd.DataFrame(cnf_mat) \n",
    "print(df)\n",
    "predictions = np.array(predictions)"
   ]
  },
  {
   "cell_type": "code",
   "execution_count": 10,
   "metadata": {},
   "outputs": [
    {
     "data": {
      "image/png": "[encoded data removed]",
      "text/plain": [
       "<matplotlib.figure.Figure at 0x1bfbfbcf6a0>"
      ]
     },
     "metadata": {},
     "output_type": "display_data"
    }
   ],
   "source": [
    "show = spectral.imshow(classes = predictions , figsize=(9,9))"
   ]
  },
  {
   "cell_type": "code",
   "execution_count": null,
   "metadata": {
    "collapsed": true
   },
   "outputs": [],
   "source": []
  }
 ],
 "metadata": {
  "kernelspec": {
   "display_name": "Python 3",
   "language": "python",
   "name": "python3"
  },
  "language_info": {
   "codemirror_mode": {
    "name": "ipython",
    "version": 3
   },
   "file_extension": ".py",
   "mimetype": "text/x-python",
   "name": "python",
   "nbconvert_exporter": "python",
   "pygments_lexer": "ipython3",
   "version": "3.5.3"
  }
 },
 "nbformat": 4,
 "nbformat_minor": 1
}
